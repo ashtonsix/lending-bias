{
 "cells": [
  {
   "cell_type": "code",
   "execution_count": 1,
   "metadata": {
    "collapsed": false
   },
   "outputs": [],
   "source": [
    "import numpy as np\n",
    "import pandas as pd\n",
    "\n",
    "races = [\n",
    "  'WA_MALE', 'WA_FEMALE', 'BA_MALE', 'BA_FEMALE', 'IA_MALE', 'IA_FEMALE',\n",
    "  'AA_MALE', 'AA_FEMALE', 'NA_MALE', 'NA_FEMALE', 'H_MALE', 'H_FEMALE',\n",
    "  'TOM_MALE', 'TOM_FEMALE'\n",
    "]\n",
    "\n",
    "zips = pd.read_csv('./data/county_to_zip.csv', dtype=str)\n",
    "zips = zips.set_index('COUNTY')\n",
    "zips = zips[['ZIP']]\n",
    "zips['ZIP'] = zips['ZIP'].str.slice(stop=3)\n",
    "zips = zips.drop_duplicates()\n",
    "\n",
    "census = pd.read_csv('./data/census.csv', dtype={'STATE': str, 'COUNTY': str})\n",
    "census = census[census['YEAR'] == 8]\n",
    "census['COUNTY'] = census['STATE'] + census['COUNTY']\n",
    "\n",
    "census_race = census.set_index('COUNTY')\n",
    "census_race = census_race[census_race['AGEGRP'] == 0]\n",
    "census_race = census_race[races].div(census_race['TOT_POP'], axis=0)\n",
    "\n",
    "ages = {}\n",
    "for i in range(1, 19): ages[i] = 'AGE_' + str(i)\n",
    "    \n",
    "census_age = census.set_index(['COUNTY', 'AGEGRP'])['TOT_POP'].unstack('AGEGRP')\n",
    "del census_age.columns.name\n",
    "census_age = census_age.iloc[:,1:].div(census_age[0], axis=0)\n",
    "census_age = census_age.rename(columns=ages, index=str)\n",
    "\n",
    "df = pd.merge(zips, census_race, left_index=True, right_index=True)\n",
    "df = pd.merge(df, census_age, left_index=True, right_index=True)\n",
    "df = df.reset_index().set_index('ZIP')\n",
    "\n",
    "accepted = pd.read_csv('./data/loans.csv', header=1, dtype=str)\n",
    "accepted['zip_code'] = accepted['zip_code'].str.slice(stop=3)\n",
    "accepted = accepted[['zip_code', 'loan_status']]\n",
    "accepted['COUNT'] = True\n",
    "accepted = accepted.groupby(['zip_code', 'loan_status']).count()['COUNT'].unstack('loan_status').fillna(0)\n",
    "accepted['ACCEPTED_COUNT'] = accepted.sum(axis=1)\n",
    "accepted = accepted.astype(int)\n",
    "\n",
    "statuses = {\n",
    "  'Charged Off': 'STATUS_CHARGED_OFF',\n",
    "  'Current': 'STATUS_CURRENT',\n",
    "  'Default': 'STATUS_DEFAULT',\n",
    "  'Fully Paid': 'STATUS_FULLY_PAID',\n",
    "  'In Grace Period': 'STATUS_IN_GRACE_PERIOD',\n",
    "  'Late (16-30 days)': 'STATUS_LATE_1',\n",
    "  'Late (31-120 days)': 'STATUS_LATE_2',\n",
    "}\n",
    "\n",
    "accepted = accepted.rename(columns=statuses, index=str)\n",
    "del accepted.columns.name\n",
    "accepted.index.name = 'ZIP'\n",
    "\n",
    "rejected = pd.read_csv('./data/loan_rejections.csv', header=1)\n",
    "rejected = rejected['Zip Code'].str.slice(stop=3).value_counts().to_frame()\n",
    "rejected = rejected.rename(columns={'Zip Code': 'REJECT_COUNT'}, index=str)\n",
    "rejected.index.name = 'ZIP'\n",
    "\n",
    "df = pd.merge(df, accepted, left_index=True, right_index=True)\n",
    "df = pd.merge(df, rejected, left_index=True, right_index=True)\n",
    "\n",
    "df = df.reset_index().sort_values(['ZIP', 'COUNTY']).reset_index(drop=True)\n",
    "\n",
    "df.to_csv('./data/stats.csv', index=False)"
   ]
  },
  {
   "cell_type": "code",
   "execution_count": null,
   "metadata": {
    "collapsed": true
   },
   "outputs": [],
   "source": []
  }
 ],
 "metadata": {
  "kernelspec": {
   "display_name": "Python 2",
   "language": "python",
   "name": "python2"
  },
  "language_info": {
   "codemirror_mode": {
    "name": "ipython",
    "version": 2
   },
   "file_extension": ".py",
   "mimetype": "text/x-python",
   "name": "python",
   "nbconvert_exporter": "python",
   "pygments_lexer": "ipython2",
   "version": "2.7.13"
  }
 },
 "nbformat": 4,
 "nbformat_minor": 2
}
